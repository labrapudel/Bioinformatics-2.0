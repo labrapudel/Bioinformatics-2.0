{
  "nbformat": 4,
  "nbformat_minor": 0,
  "metadata": {
    "colab": {
      "provenance": []
    },
    "kernelspec": {
      "name": "python3",
      "display_name": "Python 3"
    },
    "language_info": {
      "name": "python"
    }
  },
  "cells": [
    {
      "cell_type": "code",
      "source": [
        "import pandas as pd\n",
        "import numpy as np\n",
        "import matplotlib.pyplot as plt\n",
        "import seaborn as sns\n",
        "from google.colab import files\n",
        "import os"
      ],
      "metadata": {
        "id": "Tlx3fmH0RY_L"
      },
      "execution_count": 44,
      "outputs": []
    },
    {
      "cell_type": "code",
      "source": [
        "# Установка библиотек\n",
        "!pip install pandas numpy matplotlib seaborn"
      ],
      "metadata": {
        "colab": {
          "base_uri": "https://localhost:8080/"
        },
        "id": "D5NXlgsJSvKH",
        "outputId": "bf7a6bcb-45aa-47ac-894a-6c571c993844"
      },
      "execution_count": 24,
      "outputs": [
        {
          "output_type": "stream",
          "name": "stdout",
          "text": [
            "Requirement already satisfied: pandas in /usr/local/lib/python3.11/dist-packages (2.2.2)\n",
            "Requirement already satisfied: numpy in /usr/local/lib/python3.11/dist-packages (2.0.2)\n",
            "Requirement already satisfied: matplotlib in /usr/local/lib/python3.11/dist-packages (3.10.0)\n",
            "Requirement already satisfied: seaborn in /usr/local/lib/python3.11/dist-packages (0.13.2)\n",
            "Requirement already satisfied: python-dateutil>=2.8.2 in /usr/local/lib/python3.11/dist-packages (from pandas) (2.9.0.post0)\n",
            "Requirement already satisfied: pytz>=2020.1 in /usr/local/lib/python3.11/dist-packages (from pandas) (2025.2)\n",
            "Requirement already satisfied: tzdata>=2022.7 in /usr/local/lib/python3.11/dist-packages (from pandas) (2025.2)\n",
            "Requirement already satisfied: contourpy>=1.0.1 in /usr/local/lib/python3.11/dist-packages (from matplotlib) (1.3.2)\n",
            "Requirement already satisfied: cycler>=0.10 in /usr/local/lib/python3.11/dist-packages (from matplotlib) (0.12.1)\n",
            "Requirement already satisfied: fonttools>=4.22.0 in /usr/local/lib/python3.11/dist-packages (from matplotlib) (4.58.0)\n",
            "Requirement already satisfied: kiwisolver>=1.3.1 in /usr/local/lib/python3.11/dist-packages (from matplotlib) (1.4.8)\n",
            "Requirement already satisfied: packaging>=20.0 in /usr/local/lib/python3.11/dist-packages (from matplotlib) (24.2)\n",
            "Requirement already satisfied: pillow>=8 in /usr/local/lib/python3.11/dist-packages (from matplotlib) (11.2.1)\n",
            "Requirement already satisfied: pyparsing>=2.3.1 in /usr/local/lib/python3.11/dist-packages (from matplotlib) (3.2.3)\n",
            "Requirement already satisfied: six>=1.5 in /usr/local/lib/python3.11/dist-packages (from python-dateutil>=2.8.2->pandas) (1.17.0)\n"
          ]
        }
      ]
    },
    {
      "cell_type": "code",
      "source": [
        "# 1. Загрузка мутационных и клинических данных\n",
        "# Скачивание файлов по URL\n",
        "gene_url = 'https://linkedomics.org/data_download/TCGA-PRAD/Human__TCGA_PRAD__WUSM__Mutation__GAIIx__01_28_2016__BI__Gene__Firehose_MutSig2CV.cbt'\n",
        "site_url = 'https://linkedomics.org/data_download/TCGA-PRAD/Human__TCGA_PRAD__WUSM__Mutation__GAIIx__01_28_2016__BI__Site__Firehose_MutSig2CV.cbt'\n",
        "gene_file = 'gene_mutations.cbt'\n",
        "site_file = 'site_mutations.cbt'\n",
        "\n",
        "print(\"\\nСкачивание файла мутаций генов...\")\n",
        "!wget -O {gene_file} {gene_url}\n",
        "if not os.path.exists(gene_file):\n",
        "    print(f\"Ошибка: Не удалось скачать {gene_file}.\")\n",
        "    exit()\n",
        "\n",
        "print(\"\\nСкачивание файла мутаций сайтов...\")\n",
        "!wget -O {site_file} {site_url}\n",
        "if not os.path.exists(site_file):\n",
        "    print(f\"Ошибка: Не удалось скачать {site_file}.\")\n",
        "    exit()"
      ],
      "metadata": {
        "colab": {
          "base_uri": "https://localhost:8080/"
        },
        "id": "8WptSPnVUgKd",
        "outputId": "dd177b3f-248a-4e82-a9d7-b241330570d9"
      },
      "execution_count": 46,
      "outputs": [
        {
          "output_type": "stream",
          "name": "stdout",
          "text": [
            "\n",
            "Скачивание файла мутаций генов...\n",
            "--2025-05-25 16:51:56--  https://linkedomics.org/data_download/TCGA-PRAD/Human__TCGA_PRAD__WUSM__Mutation__GAIIx__01_28_2016__BI__Gene__Firehose_MutSig2CV.cbt\n",
            "Resolving linkedomics.org (linkedomics.org)... 52.37.41.236\n",
            "Connecting to linkedomics.org (linkedomics.org)|52.37.41.236|:443... connected.\n",
            "HTTP request sent, awaiting response... 200 OK\n",
            "Length: 2687835 (2.6M)\n",
            "Saving to: ‘gene_mutations.cbt’\n",
            "\n",
            "gene_mutations.cbt  100%[===================>]   2.56M  2.40MB/s    in 1.1s    \n",
            "\n",
            "2025-05-25 16:51:57 (2.40 MB/s) - ‘gene_mutations.cbt’ saved [2687835/2687835]\n",
            "\n",
            "\n",
            "Скачивание файла мутаций сайтов...\n",
            "--2025-05-25 16:51:57--  https://linkedomics.org/data_download/TCGA-PRAD/Human__TCGA_PRAD__WUSM__Mutation__GAIIx__01_28_2016__BI__Site__Firehose_MutSig2CV.cbt\n",
            "Resolving linkedomics.org (linkedomics.org)... 52.37.41.236\n",
            "Connecting to linkedomics.org (linkedomics.org)|52.37.41.236|:443... connected.\n",
            "HTTP request sent, awaiting response... 200 OK\n",
            "Length: 34791 (34K)\n",
            "Saving to: ‘site_mutations.cbt’\n",
            "\n",
            "site_mutations.cbt  100%[===================>]  33.98K  --.-KB/s    in 0.1s    \n",
            "\n",
            "2025-05-25 16:51:58 (269 KB/s) - ‘site_mutations.cbt’ saved [34791/34791]\n",
            "\n"
          ]
        }
      ]
    },
    {
      "cell_type": "code",
      "source": [
        "# Загрузка клинических данных\n",
        "clinical_file = 'processed_clinical.csv'\n",
        "if not os.path.exists(clinical_file):\n",
        "    print(\"\\nФайл с клиническими данными не найден.\")\n",
        "    uploaded = files.upload()\n",
        "    if not uploaded:\n",
        "        print(\"Ошибка\")\n",
        "        exit()\n",
        "    clinical_file = list(uploaded.keys())[0]\n",
        "    print(f\"Загружен файл: {clinical_file}\")"
      ],
      "metadata": {
        "id": "IvUZOQRsUgIE"
      },
      "execution_count": 49,
      "outputs": []
    },
    {
      "cell_type": "code",
      "source": [
        "# Чтение данных\n",
        "try:\n",
        "    gene_mutations = pd.read_csv(gene_file, sep='\\t')\n",
        "    gene_mutations = gene_mutations.rename(columns={'attrib_name': 'Gene'}).set_index('Gene')\n",
        "except Exception as e:\n",
        "    print(f\"Ошибка при чтении файла мутаций генов: {e}\")\n",
        "    exit()\n",
        "\n",
        "try:\n",
        "    site_mutations = pd.read_csv(site_file, sep='\\t')\n",
        "    site_mutations = site_mutations.rename(columns={'attrib_name': 'Mutation'})\n",
        "except Exception as e:\n",
        "    print(f\"Ошибка при чтении файла мутаций сайтов: {e}\")\n",
        "    exit()\n",
        "\n",
        "try:\n",
        "    clinical_data = pd.read_csv(clinical_file)\n",
        "except Exception as e:\n",
        "    print(f\"Ошибка при чтении клинических данных: {e}\")\n",
        "    exit()"
      ],
      "metadata": {
        "id": "no3eZtvCUgFz"
      },
      "execution_count": 50,
      "outputs": []
    },
    {
      "cell_type": "code",
      "source": [
        "# 2. Первичный анализ\n",
        "# Гены\n",
        "print(\"\\nМутации генов (первые 5 строк):\")\n",
        "print(gene_mutations.head())\n",
        "print(f\"Размер: {gene_mutations.shape[0]} генов, {gene_mutations.shape[1]} образцов\")\n",
        "mutation_freq = gene_mutations.sum(axis=1) / gene_mutations.shape[1] * 100\n",
        "print(\"\\nТоп-5 генов по частоте мутаций (% образцов):\")\n",
        "print(mutation_freq.sort_values(ascending=False).head())"
      ],
      "metadata": {
        "colab": {
          "base_uri": "https://localhost:8080/"
        },
        "id": "g_HjwOOlUgDT",
        "outputId": "ef7f01cd-87e2-446a-99b3-8170f9d7239e"
      },
      "execution_count": 51,
      "outputs": [
        {
          "output_type": "stream",
          "name": "stdout",
          "text": [
            "\n",
            "Мутации генов (первые 5 строк):\n",
            "         TCGA.EJ.5499  TCGA.HC.7210  TCGA.HI.7171  TCGA.KK.A6E1  TCGA.QU.A6IM  \\\n",
            "Gene                                                                            \n",
            "A1CF                0             1             1             1             1   \n",
            "A2BP1               0             0             0             0             0   \n",
            "A4GALT              0             0             0             0             0   \n",
            "AADACL4             0             0             0             0             0   \n",
            "AASS                0             0             0             0             0   \n",
            "\n",
            "         TCGA.XK.AAIW  TCGA.YL.A8SH  TCGA.CH.5750  TCGA.EJ.5530  TCGA.HC.7736  \\\n",
            "Gene                                                                            \n",
            "A1CF                1             1             0             0             0   \n",
            "A2BP1               1             0             1             1             1   \n",
            "A4GALT              1             0             0             0             0   \n",
            "AADACL4             1             0             0             0             0   \n",
            "AASS                0             0             0             0             0   \n",
            "\n",
            "         ...  TCGA.EJ.A7NK  TCGA.ZG.A9MC  TCGA.ZG.A9LU  TCGA.KC.A4BO  \\\n",
            "Gene     ...                                                           \n",
            "A1CF     ...             0             0             0             0   \n",
            "A2BP1    ...             0             0             0             0   \n",
            "A4GALT   ...             0             0             0             0   \n",
            "AADACL4  ...             0             0             0             0   \n",
            "AASS     ...             0             0             0             0   \n",
            "\n",
            "         TCGA.M7.A723  TCGA.KC.A4BR  TCGA.CH.5743  TCGA.EJ.A46H  TCGA.G9.6370  \\\n",
            "Gene                                                                            \n",
            "A1CF                0             0             0             0             0   \n",
            "A2BP1               0             0             0             0             0   \n",
            "A4GALT              0             0             0             0             0   \n",
            "AADACL4             0             0             0             0             0   \n",
            "AASS                0             0             0             0             0   \n",
            "\n",
            "         TCGA.HC.7079  \n",
            "Gene                   \n",
            "A1CF                0  \n",
            "A2BP1               0  \n",
            "A4GALT              0  \n",
            "AADACL4             0  \n",
            "AASS                0  \n",
            "\n",
            "[5 rows x 498 columns]\n",
            "Размер: 2675 генов, 498 образцов\n",
            "\n",
            "Топ-5 генов по частоте мутаций (% образцов):\n",
            "Gene\n",
            "TTN      12.650602\n",
            "TP53     11.445783\n",
            "SPOP     11.445783\n",
            "MUC16     7.429719\n",
            "MUC17     6.224900\n",
            "dtype: float64\n"
          ]
        }
      ]
    },
    {
      "cell_type": "code",
      "source": [
        "# Сайты\n",
        "print(\"\\nМутации сайтов (первые 5 строк):\")\n",
        "print(site_mutations.head())\n",
        "print(f\"Всего SNV: {site_mutations.shape[0]}\")\n",
        "# Извлечение гена из Mutation\n",
        "site_mutations['Gene'] = site_mutations['Mutation'].str.split('_', expand=True)[0]\n",
        "site_gene_freq = site_mutations.groupby('Gene').sum().iloc[:, 1:-1].sum(axis=1) / gene_mutations.shape[1] * 100\n",
        "print(\"\\nТоп-5 генов по SNV (% образцов):\")\n",
        "print(site_gene_freq.sort_values(ascending=False).head())"
      ],
      "metadata": {
        "colab": {
          "base_uri": "https://localhost:8080/"
        },
        "id": "rwk1UKENSvDj",
        "outputId": "39cb18b8-a1f4-4dec-dcdb-a46350ba4023"
      },
      "execution_count": 52,
      "outputs": [
        {
          "output_type": "stream",
          "name": "stdout",
          "text": [
            "\n",
            "Мутации сайтов (первые 5 строк):\n",
            "           Mutation  TCGA.EJ.5499  TCGA.HC.7210  TCGA.KK.A6E1  TCGA.QU.A6IM  \\\n",
            "0     AGAP6_p.S104I             0             0             0             0   \n",
            "1     CANT1_p.K131R             0             0             0             0   \n",
            "2  CNTNAP1_p.S1029I             0             0             0             0   \n",
            "3   DPY19L2_p.M210V             0             0             0             0   \n",
            "4      EMG1_p.F42fs             0             0             0             0   \n",
            "\n",
            "   TCGA.XK.AAIW  TCGA.YL.A8SH  TCGA.EJ.5530  TCGA.HC.7736  TCGA.KK.A6E6  ...  \\\n",
            "0             0             0             0             0             0  ...   \n",
            "1             0             0             0             0             0  ...   \n",
            "2             0             0             0             0             0  ...   \n",
            "3             0             0             0             0             0  ...   \n",
            "4             0             0             0             0             0  ...   \n",
            "\n",
            "   TCGA.ZG.A9MC  TCGA.ZG.A9LU  TCGA.KC.A4BO  TCGA.M7.A723  TCGA.KC.A4BR  \\\n",
            "0             0             0             0             0             0   \n",
            "1             0             0             0             0             0   \n",
            "2             0             0             0             0             0   \n",
            "3             0             0             0             0             0   \n",
            "4             0             0             0             0             0   \n",
            "\n",
            "   TCGA.CH.5743  TCGA.EJ.A46H  TCGA.G9.6370  TCGA.HC.7079  TCGA.EJ.A7NK  \n",
            "0             0             0             0             0             0  \n",
            "1             0             0             0             0             0  \n",
            "2             0             0             0             0             0  \n",
            "3             0             0             0             0             0  \n",
            "4             0             0             0             0             0  \n",
            "\n",
            "[5 rows x 499 columns]\n",
            "Всего SNV: 28\n",
            "\n",
            "Топ-5 генов по SNV (% образцов):\n",
            "Gene\n",
            "SPOP      5.823293\n",
            "TP53      2.208835\n",
            "FAM47C    1.204819\n",
            "GAGE2A    0.803213\n",
            "ZNF709    0.803213\n",
            "dtype: float64\n"
          ]
        }
      ]
    },
    {
      "cell_type": "code",
      "source": [
        "# Клинические данные\n",
        "print(\"\\nКлинические данные (первые 5 строк):\")\n",
        "print(clinical_data[['patient_id', 'status', 'residual_tumor']].head())\n",
        "print(\"\\nРаспределение residual_tumor:\")\n",
        "print(clinical_data['residual_tumor'].value_counts(dropna=False).to_dict())"
      ],
      "metadata": {
        "colab": {
          "base_uri": "https://localhost:8080/"
        },
        "id": "AyKbD288SvBb",
        "outputId": "113cf2b7-f7c9-48f1-ef37-ec97729b0930"
      },
      "execution_count": 53,
      "outputs": [
        {
          "output_type": "stream",
          "name": "stdout",
          "text": [
            "\n",
            "Клинические данные (первые 5 строк):\n",
            "     patient_id  status residual_tumor\n",
            "0  TCGA.CH.5753     0.0             r0\n",
            "1  TCGA.CH.5763     0.0             r0\n",
            "2  TCGA.CH.5764     0.0             r0\n",
            "3  TCGA.CH.5772     0.0             r1\n",
            "4  TCGA.CH.5790     0.0             r0\n",
            "\n",
            "Распределение residual_tumor:\n",
            "{'r0': 317, 'r1': 147, nan: 30, 'r2': 5}\n"
          ]
        }
      ]
    },
    {
      "cell_type": "code",
      "source": [
        "# 3. Объединение данных\n",
        "# Очистка patient_id\n",
        "clinical_data['patient_id_clean'] = clinical_data['patient_id'].str.replace('TCGA.', '', regex=False)\n",
        "gene_mutations.columns = gene_mutations.columns.str.replace('TCGA.', '', regex=False)\n",
        "site_mutations.columns = [col.replace('TCGA.', '') if col != 'Mutation' else col for col in site_mutations.columns]"
      ],
      "metadata": {
        "id": "LOfNjC8tSu_a"
      },
      "execution_count": 54,
      "outputs": []
    },
    {
      "cell_type": "code",
      "source": [
        "# Проверка общих образцов\n",
        "common_samples = list(set(gene_mutations.columns).intersection(set(clinical_data['patient_id_clean'])))\n",
        "if not common_samples:\n",
        "    print(\"Ошибка: Нет общих образцов.\")\n",
        "    print(\"Гены (первые 5):\", gene_mutations.columns.tolist()[:5])\n",
        "    print(\"Клинические (первые 5):\", clinical_data['patient_id_clean'].tolist()[:5])\n",
        "    exit()\n",
        "print(f\"\\nОбщие образцы: {len(common_samples)}\")"
      ],
      "metadata": {
        "colab": {
          "base_uri": "https://localhost:8080/"
        },
        "id": "isUe5cPJSu9L",
        "outputId": "70bbf916-3fa8-4a9c-c566-2cd7b6c367a1"
      },
      "execution_count": 55,
      "outputs": [
        {
          "output_type": "stream",
          "name": "stdout",
          "text": [
            "\n",
            "Общие образцы: 498\n"
          ]
        }
      ]
    },
    {
      "cell_type": "code",
      "source": [
        "# Фильтрация\n",
        "gene_mutations = gene_mutations[common_samples]\n",
        "site_mutations = site_mutations[['Mutation', 'Gene'] + common_samples]\n",
        "clinical_data = clinical_data[clinical_data['patient_id_clean'].isin(common_samples)]"
      ],
      "metadata": {
        "id": "DNiYcdXySu7Q"
      },
      "execution_count": 56,
      "outputs": []
    },
    {
      "cell_type": "code",
      "source": [
        "# Маппинг рецидива\n",
        "recurrence_col = 'residual_tumor'\n",
        "recurrence_values = {'r0': 'No', 'r1': 'Yes', 'r2': 'Yes', np.nan: 'No'}\n",
        "clinical_data['recurrence_mapped'] = clinical_data[recurrence_col].map(recurrence_values)\n",
        "print(\"\\nРаспределение рецидива (mapped):\")\n",
        "print(clinical_data['recurrence_mapped'].value_counts(dropna=False).to_dict())"
      ],
      "metadata": {
        "colab": {
          "base_uri": "https://localhost:8080/"
        },
        "id": "VNh5SxSgSu4r",
        "outputId": "04f34b7f-7c96-4613-e4c1-0245f01ebed9"
      },
      "execution_count": 57,
      "outputs": [
        {
          "output_type": "stream",
          "name": "stdout",
          "text": [
            "\n",
            "Распределение рецидива (mapped):\n",
            "{'No': 346, 'Yes': 152}\n"
          ]
        }
      ]
    },
    {
      "cell_type": "code",
      "source": [
        "# 4. Часто мутирующие гены\n",
        "# Частота мутаций (из gene_mutations)\n",
        "mutation_freq = gene_mutations.sum(axis=1) / gene_mutations.shape[1] * 100\n",
        "freq_df = pd.DataFrame({'Gene': mutation_freq.index, 'Mutation_Frequency (%)': mutation_freq.values})\n",
        "freq_df = freq_df.sort_values('Mutation_Frequency (%)', ascending=False)\n",
        "freq_df = freq_df[freq_df['Mutation_Frequency (%)'] > 5]  # Фильтр >5%\n",
        "print(\"\\nЧасто мутирующие гены (>5%):\")\n",
        "print(freq_df.head(10))\n"
      ],
      "metadata": {
        "colab": {
          "base_uri": "https://localhost:8080/"
        },
        "id": "yvqKB7W8Su1z",
        "outputId": "e7d342cc-c63f-4d72-e72c-3e2cd3c18e89"
      },
      "execution_count": 58,
      "outputs": [
        {
          "output_type": "stream",
          "name": "stdout",
          "text": [
            "\n",
            "Часто мутирующие гены (>5%):\n",
            "       Gene  Mutation_Frequency (%)\n",
            "2451    TTN               12.650602\n",
            "2391   TP53               11.445783\n",
            "2233   SPOP               11.445783\n",
            "1458  MUC16                7.429719\n",
            "1459  MUC17                6.224900\n",
            "1419   MLL2                5.823293\n",
            "1420   MLL3                5.823293\n",
            "881   FOXA1                5.622490\n",
            "2235  SPTA1                5.220884\n",
            "2271  SYNE1                5.220884\n"
          ]
        }
      ]
    },
    {
      "cell_type": "code",
      "source": [
        "# Частота мутаций (из site_mutations)\n",
        "site_mutation_freq = site_mutations[common_samples].sum(axis=1)\n",
        "site_freq_df = pd.DataFrame({\n",
        "    'Mutation': site_mutations['Mutation'],\n",
        "    'Gene': site_mutations['Gene'],\n",
        "    'Mutation_Frequency (%)': site_mutation_freq / len(common_samples) * 100\n",
        "})\n",
        "site_freq_df = site_freq_df.sort_values('Mutation_Frequency (%)', ascending=False)\n",
        "print(\"\\nТоп-5 мутаций по SNV (% образцов):\")\n",
        "print(site_freq_df.head())"
      ],
      "metadata": {
        "colab": {
          "base_uri": "https://localhost:8080/"
        },
        "id": "J8Qz1Sk3RY66",
        "outputId": "8a15baa9-b51a-43ca-e6be-6cc565c12ba9"
      },
      "execution_count": 59,
      "outputs": [
        {
          "output_type": "stream",
          "name": "stdout",
          "text": [
            "\n",
            "Топ-5 мутаций по SNV (% образцов):\n",
            "          Mutation    Gene  Mutation_Frequency (%)\n",
            "16    SPOP_p.W131G    SPOP                1.606426\n",
            "18    SPOP_p.F133L    SPOP                1.405622\n",
            "5   FAM47C_p.N648D  FAM47C                1.204819\n",
            "19    SPOP_p.F133V    SPOP                1.204819\n",
            "20    SPOP_p.F102V    SPOP                0.803213\n"
          ]
        }
      ]
    },
    {
      "cell_type": "code",
      "source": [
        "# 5. Визуализация\n",
        "# Bar plot: топ-10 генов (gene_mutations)\n",
        "plt.figure(figsize=(10, 6))\n",
        "sns.barplot(x='Mutation_Frequency (%)', y='Gene', data=freq_df.head(10))\n",
        "plt.title('Топ-10 часто мутирующих генов (TCGA-PRAD, Gene Mutations)')\n",
        "plt.xlabel('Частота мутаций (%)')\n",
        "plt.ylabel('Ген')\n",
        "plt.tight_layout()\n",
        "plt.savefig('top10_mutated_genes.png')\n",
        "plt.show()\n",
        "plt.close()\n",
        "files.download('top10_mutated_genes.png')"
      ],
      "metadata": {
        "colab": {
          "base_uri": "https://localhost:8080/",
          "height": 607
        },
        "id": "HUU5bK73RY41",
        "outputId": "ce712d13-aeb4-4d63-94d9-851d0bacc93d"
      },
      "execution_count": 60,
      "outputs": [
        {
          "output_type": "display_data",
          "data": {
            "text/plain": [
              "<Figure size 1000x600 with 1 Axes>"
            ],
            "image/png": "[encoded data removed]"
          },
          "metadata": {}
        },
        {
          "output_type": "display_data",
          "data": {
            "text/plain": [
              "<IPython.core.display.Javascript object>"
            ],
            "application/javascript": [
              "\n",
              "    async function download(id, filename, size) {\n",
              "      if (!google.colab.kernel.accessAllowed) {\n",
              "        return;\n",
              "      }\n",
              "      const div = document.createElement('div');\n",
              "      const label = document.createElement('label');\n",
              "      label.textContent = `Downloading \"${filename}\": `;\n",
              "      div.appendChild(label);\n",
              "      const progress = document.createElement('progress');\n",
              "      progress.max = size;\n",
              "      div.appendChild(progress);\n",
              "      document.body.appendChild(div);\n",
              "\n",
              "      const buffers = [];\n",
              "      let downloaded = 0;\n",
              "\n",
              "      const channel = await google.colab.kernel.comms.open(id);\n",
              "      // Send a message to notify the kernel that we're ready.\n",
              "      channel.send({})\n",
              "\n",
              "      for await (const message of channel.messages) {\n",
              "        // Send a message to notify the kernel that we're ready.\n",
              "        channel.send({})\n",
              "        if (message.buffers) {\n",
              "          for (const buffer of message.buffers) {\n",
              "            buffers.push(buffer);\n",
              "            downloaded += buffer.byteLength;\n",
              "            progress.value = downloaded;\n",
              "          }\n",
              "        }\n",
              "      }\n",
              "      const blob = new Blob(buffers, {type: 'application/binary'});\n",
              "      const a = document.createElement('a');\n",
              "      a.href = window.URL.createObjectURL(blob);\n",
              "      a.download = filename;\n",
              "      div.appendChild(a);\n",
              "      a.click();\n",
              "      div.remove();\n",
              "    }\n",
              "  "
            ]
          },
          "metadata": {}
        },
        {
          "output_type": "display_data",
          "data": {
            "text/plain": [
              "<IPython.core.display.Javascript object>"
            ],
            "application/javascript": [
              "download(\"download_414c0e25-5739-4d31-ba8e-2e91fdfa20be\", \"top10_mutated_genes.png\", 27012)"
            ]
          },
          "metadata": {}
        }
      ]
    },
    {
      "cell_type": "code",
      "source": [
        "# Bar plot: топ-10 мутаций (site_mutations)\n",
        "plt.figure(figsize=(10, 6))\n",
        "sns.barplot(x='Mutation_Frequency (%)', y='Mutation', data=site_freq_df.head(10))\n",
        "plt.title('Топ-10 мутаций SNV (TCGA-PRAD, Site Mutations)')\n",
        "plt.xlabel('Частота мутаций (%)')\n",
        "plt.ylabel('Мутация')\n",
        "plt.tight_layout()\n",
        "plt.savefig('top10_snv_mutations.png')\n",
        "plt.show()\n",
        "plt.close()\n",
        "files.download('top10_snv_mutations.png')"
      ],
      "metadata": {
        "colab": {
          "base_uri": "https://localhost:8080/",
          "height": 607
        },
        "id": "LVsPTkEPXTYy",
        "outputId": "ece14e99-4fb0-4c40-b13f-84377a8eb66d"
      },
      "execution_count": 61,
      "outputs": [
        {
          "output_type": "display_data",
          "data": {
            "text/plain": [
              "<Figure size 1000x600 with 1 Axes>"
            ],
            "image/png": "[encoded data removed]"
          },
          "metadata": {}
        },
        {
          "output_type": "display_data",
          "data": {
            "text/plain": [
              "<IPython.core.display.Javascript object>"
            ],
            "application/javascript": [
              "\n",
              "    async function download(id, filename, size) {\n",
              "      if (!google.colab.kernel.accessAllowed) {\n",
              "        return;\n",
              "      }\n",
              "      const div = document.createElement('div');\n",
              "      const label = document.createElement('label');\n",
              "      label.textContent = `Downloading \"${filename}\": `;\n",
              "      div.appendChild(label);\n",
              "      const progress = document.createElement('progress');\n",
              "      progress.max = size;\n",
              "      div.appendChild(progress);\n",
              "      document.body.appendChild(div);\n",
              "\n",
              "      const buffers = [];\n",
              "      let downloaded = 0;\n",
              "\n",
              "      const channel = await google.colab.kernel.comms.open(id);\n",
              "      // Send a message to notify the kernel that we're ready.\n",
              "      channel.send({})\n",
              "\n",
              "      for await (const message of channel.messages) {\n",
              "        // Send a message to notify the kernel that we're ready.\n",
              "        channel.send({})\n",
              "        if (message.buffers) {\n",
              "          for (const buffer of message.buffers) {\n",
              "            buffers.push(buffer);\n",
              "            downloaded += buffer.byteLength;\n",
              "            progress.value = downloaded;\n",
              "          }\n",
              "        }\n",
              "      }\n",
              "      const blob = new Blob(buffers, {type: 'application/binary'});\n",
              "      const a = document.createElement('a');\n",
              "      a.href = window.URL.createObjectURL(blob);\n",
              "      a.download = filename;\n",
              "      div.appendChild(a);\n",
              "      a.click();\n",
              "      div.remove();\n",
              "    }\n",
              "  "
            ]
          },
          "metadata": {}
        },
        {
          "output_type": "display_data",
          "data": {
            "text/plain": [
              "<IPython.core.display.Javascript object>"
            ],
            "application/javascript": [
              "download(\"download_778c29df-e681-42bc-b515-6aef4dcc27cc\", \"top10_snv_mutations.png\", 40111)"
            ]
          },
          "metadata": {}
        }
      ]
    },
    {
      "cell_type": "code",
      "source": [
        "# Heatmap: топ-20 генов (gene_mutations)\n",
        "top_genes = freq_df['Gene'].head(20)\n",
        "if len(top_genes) > 0:\n",
        "    plt.figure(figsize=(12, 8))\n",
        "    sns.heatmap(gene_mutations.loc[top_genes], cmap='binary', cbar=False)\n",
        "    plt.title('Мутации топ-20 генов (TCGA-PRAD)')\n",
        "    plt.xlabel('Образцы')\n",
        "    plt.ylabel('Гены')\n",
        "    plt.tight_layout()\n",
        "    plt.savefig('mutation_heatmap.png')\n",
        "    plt.show()\n",
        "    plt.close()\n",
        "    files.download('mutation_heatmap.png')"
      ],
      "metadata": {
        "colab": {
          "base_uri": "https://localhost:8080/",
          "height": 807
        },
        "id": "vNiZXUYcXTWj",
        "outputId": "b0ea2a11-2962-47ac-9521-69fddeb43ce0"
      },
      "execution_count": 62,
      "outputs": [
        {
          "output_type": "display_data",
          "data": {
            "text/plain": [
              "<Figure size 1200x800 with 1 Axes>"
            ],
            "image/png": "[encoded data removed]"
          },
          "metadata": {}
        },
        {
          "output_type": "display_data",
          "data": {
            "text/plain": [
              "<IPython.core.display.Javascript object>"
            ],
            "application/javascript": [
              "\n",
              "    async function download(id, filename, size) {\n",
              "      if (!google.colab.kernel.accessAllowed) {\n",
              "        return;\n",
              "      }\n",
              "      const div = document.createElement('div');\n",
              "      const label = document.createElement('label');\n",
              "      label.textContent = `Downloading \"${filename}\": `;\n",
              "      div.appendChild(label);\n",
              "      const progress = document.createElement('progress');\n",
              "      progress.max = size;\n",
              "      div.appendChild(progress);\n",
              "      document.body.appendChild(div);\n",
              "\n",
              "      const buffers = [];\n",
              "      let downloaded = 0;\n",
              "\n",
              "      const channel = await google.colab.kernel.comms.open(id);\n",
              "      // Send a message to notify the kernel that we're ready.\n",
              "      channel.send({})\n",
              "\n",
              "      for await (const message of channel.messages) {\n",
              "        // Send a message to notify the kernel that we're ready.\n",
              "        channel.send({})\n",
              "        if (message.buffers) {\n",
              "          for (const buffer of message.buffers) {\n",
              "            buffers.push(buffer);\n",
              "            downloaded += buffer.byteLength;\n",
              "            progress.value = downloaded;\n",
              "          }\n",
              "        }\n",
              "      }\n",
              "      const blob = new Blob(buffers, {type: 'application/binary'});\n",
              "      const a = document.createElement('a');\n",
              "      a.href = window.URL.createObjectURL(blob);\n",
              "      a.download = filename;\n",
              "      div.appendChild(a);\n",
              "      a.click();\n",
              "      div.remove();\n",
              "    }\n",
              "  "
            ]
          },
          "metadata": {}
        },
        {
          "output_type": "display_data",
          "data": {
            "text/plain": [
              "<IPython.core.display.Javascript object>"
            ],
            "application/javascript": [
              "download(\"download_62d36970-c0a2-4326-8926-6895ed85ce3f\", \"mutation_heatmap.png\", 66293)"
            ]
          },
          "metadata": {}
        }
      ]
    },
    {
      "cell_type": "code",
      "source": [
        "# 6. Сохранение результатов\n",
        "freq_df.to_csv('frequent_mutations.csv', index=False)\n",
        "print(\"\\nТаблица часто мутирующих генов сохранена в 'frequent_mutations.csv'\")\n",
        "files.download('frequent_mutations.csv')\n",
        "\n",
        "site_freq_df.to_csv('frequent_snv_mutations.csv', index=False)\n",
        "print(\"Таблица часто мутирующих SNV сохранена в 'frequent_snv_mutations.csv'\")\n",
        "files.download('frequent_snv_mutations.csv')"
      ],
      "metadata": {
        "colab": {
          "base_uri": "https://localhost:8080/",
          "height": 71
        },
        "id": "ibLSP74kXTSi",
        "outputId": "239040f9-2726-4f82-f0fb-93e1900695a9"
      },
      "execution_count": 64,
      "outputs": [
        {
          "output_type": "stream",
          "name": "stdout",
          "text": [
            "\n",
            "Таблица часто мутирующих генов сохранена в 'frequent_mutations.csv'\n"
          ]
        },
        {
          "output_type": "display_data",
          "data": {
            "text/plain": [
              "<IPython.core.display.Javascript object>"
            ],
            "application/javascript": [
              "\n",
              "    async function download(id, filename, size) {\n",
              "      if (!google.colab.kernel.accessAllowed) {\n",
              "        return;\n",
              "      }\n",
              "      const div = document.createElement('div');\n",
              "      const label = document.createElement('label');\n",
              "      label.textContent = `Downloading \"${filename}\": `;\n",
              "      div.appendChild(label);\n",
              "      const progress = document.createElement('progress');\n",
              "      progress.max = size;\n",
              "      div.appendChild(progress);\n",
              "      document.body.appendChild(div);\n",
              "\n",
              "      const buffers = [];\n",
              "      let downloaded = 0;\n",
              "\n",
              "      const channel = await google.colab.kernel.comms.open(id);\n",
              "      // Send a message to notify the kernel that we're ready.\n",
              "      channel.send({})\n",
              "\n",
              "      for await (const message of channel.messages) {\n",
              "        // Send a message to notify the kernel that we're ready.\n",
              "        channel.send({})\n",
              "        if (message.buffers) {\n",
              "          for (const buffer of message.buffers) {\n",
              "            buffers.push(buffer);\n",
              "            downloaded += buffer.byteLength;\n",
              "            progress.value = downloaded;\n",
              "          }\n",
              "        }\n",
              "      }\n",
              "      const blob = new Blob(buffers, {type: 'application/binary'});\n",
              "      const a = document.createElement('a');\n",
              "      a.href = window.URL.createObjectURL(blob);\n",
              "      a.download = filename;\n",
              "      div.appendChild(a);\n",
              "      a.click();\n",
              "      div.remove();\n",
              "    }\n",
              "  "
            ]
          },
          "metadata": {}
        },
        {
          "output_type": "display_data",
          "data": {
            "text/plain": [
              "<IPython.core.display.Javascript object>"
            ],
            "application/javascript": [
              "download(\"download_1c20fca9-969e-4aa3-9a16-7ede0b43c819\", \"frequent_mutations.csv\", 266)"
            ]
          },
          "metadata": {}
        },
        {
          "output_type": "stream",
          "name": "stdout",
          "text": [
            "Таблица часто мутирующих SNV сохранена в 'frequent_snv_mutations.csv'\n"
          ]
        },
        {
          "output_type": "display_data",
          "data": {
            "text/plain": [
              "<IPython.core.display.Javascript object>"
            ],
            "application/javascript": [
              "\n",
              "    async function download(id, filename, size) {\n",
              "      if (!google.colab.kernel.accessAllowed) {\n",
              "        return;\n",
              "      }\n",
              "      const div = document.createElement('div');\n",
              "      const label = document.createElement('label');\n",
              "      label.textContent = `Downloading \"${filename}\": `;\n",
              "      div.appendChild(label);\n",
              "      const progress = document.createElement('progress');\n",
              "      progress.max = size;\n",
              "      div.appendChild(progress);\n",
              "      document.body.appendChild(div);\n",
              "\n",
              "      const buffers = [];\n",
              "      let downloaded = 0;\n",
              "\n",
              "      const channel = await google.colab.kernel.comms.open(id);\n",
              "      // Send a message to notify the kernel that we're ready.\n",
              "      channel.send({})\n",
              "\n",
              "      for await (const message of channel.messages) {\n",
              "        // Send a message to notify the kernel that we're ready.\n",
              "        channel.send({})\n",
              "        if (message.buffers) {\n",
              "          for (const buffer of message.buffers) {\n",
              "            buffers.push(buffer);\n",
              "            downloaded += buffer.byteLength;\n",
              "            progress.value = downloaded;\n",
              "          }\n",
              "        }\n",
              "      }\n",
              "      const blob = new Blob(buffers, {type: 'application/binary'});\n",
              "      const a = document.createElement('a');\n",
              "      a.href = window.URL.createObjectURL(blob);\n",
              "      a.download = filename;\n",
              "      div.appendChild(a);\n",
              "      a.click();\n",
              "      div.remove();\n",
              "    }\n",
              "  "
            ]
          },
          "metadata": {}
        },
        {
          "output_type": "display_data",
          "data": {
            "text/plain": [
              "<IPython.core.display.Javascript object>"
            ],
            "application/javascript": [
              "download(\"download_144afa23-81f3-4578-8d9e-1b8b09c136af\", \"frequent_snv_mutations.csv\", 1156)"
            ]
          },
          "metadata": {}
        }
      ]
    },
    {
      "cell_type": "code",
      "source": [
        "# Сохранение объединённых данных\n",
        "merged_data = gene_mutations.T.reset_index().rename(columns={'index': 'patient_id_clean'})\n",
        "merged_data = merged_data.merge(clinical_data, on='patient_id_clean', how='left')\n",
        "merged_data.to_csv('merged_mutation_clinical.csv', index=False)\n",
        "print(\"Объединённые данные сохранены в 'merged_mutation_clinical.csv'\")\n",
        "files.download('merged_mutation_clinical.csv')\n",
        "\n",
        "print(\"\\nАнализ завершён!\")"
      ],
      "metadata": {
        "colab": {
          "base_uri": "https://localhost:8080/",
          "height": 71
        },
        "id": "AWxzaDSNXTQb",
        "outputId": "ac1e1927-bc87-428b-e7ee-ce5f6549d77e"
      },
      "execution_count": 65,
      "outputs": [
        {
          "output_type": "stream",
          "name": "stdout",
          "text": [
            "Объединённые данные сохранены в 'merged_mutation_clinical.csv'\n"
          ]
        },
        {
          "output_type": "display_data",
          "data": {
            "text/plain": [
              "<IPython.core.display.Javascript object>"
            ],
            "application/javascript": [
              "\n",
              "    async function download(id, filename, size) {\n",
              "      if (!google.colab.kernel.accessAllowed) {\n",
              "        return;\n",
              "      }\n",
              "      const div = document.createElement('div');\n",
              "      const label = document.createElement('label');\n",
              "      label.textContent = `Downloading \"${filename}\": `;\n",
              "      div.appendChild(label);\n",
              "      const progress = document.createElement('progress');\n",
              "      progress.max = size;\n",
              "      div.appendChild(progress);\n",
              "      document.body.appendChild(div);\n",
              "\n",
              "      const buffers = [];\n",
              "      let downloaded = 0;\n",
              "\n",
              "      const channel = await google.colab.kernel.comms.open(id);\n",
              "      // Send a message to notify the kernel that we're ready.\n",
              "      channel.send({})\n",
              "\n",
              "      for await (const message of channel.messages) {\n",
              "        // Send a message to notify the kernel that we're ready.\n",
              "        channel.send({})\n",
              "        if (message.buffers) {\n",
              "          for (const buffer of message.buffers) {\n",
              "            buffers.push(buffer);\n",
              "            downloaded += buffer.byteLength;\n",
              "            progress.value = downloaded;\n",
              "          }\n",
              "        }\n",
              "      }\n",
              "      const blob = new Blob(buffers, {type: 'application/binary'});\n",
              "      const a = document.createElement('a');\n",
              "      a.href = window.URL.createObjectURL(blob);\n",
              "      a.download = filename;\n",
              "      div.appendChild(a);\n",
              "      a.click();\n",
              "      div.remove();\n",
              "    }\n",
              "  "
            ]
          },
          "metadata": {}
        },
        {
          "output_type": "display_data",
          "data": {
            "text/plain": [
              "<IPython.core.display.Javascript object>"
            ],
            "application/javascript": [
              "download(\"download_cde0ce7a-d774-46ad-b10e-f4f031128286\", \"merged_mutation_clinical.csv\", 2740116)"
            ]
          },
          "metadata": {}
        },
        {
          "output_type": "stream",
          "name": "stdout",
          "text": [
            "\n",
            "Анализ завершён!\n"
          ]
        }
      ]
    },
    {
      "cell_type": "code",
      "source": [],
      "metadata": {
        "id": "nuGWuWY9XTNZ"
      },
      "execution_count": null,
      "outputs": []
    }
  ]
}